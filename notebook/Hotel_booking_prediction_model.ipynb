{
  "nbformat": 4,
  "nbformat_minor": 0,
  "metadata": {
    "colab": {
      "provenance": []
    },
    "kernelspec": {
      "name": "python3",
      "display_name": "Python 3"
    },
    "language_info": {
      "name": "python"
    }
  },
  "cells": [
    {
      "cell_type": "code",
      "execution_count": 1,
      "metadata": {
        "id": "T4RNrgEepkfl"
      },
      "outputs": [],
      "source": [
        "import pandas as pd\n",
        "import numpy as np\n",
        "import matplotlib.pyplot as plt\n",
        "%matplotlib inline\n",
        "import seaborn as sns\n",
        "import warnings\n",
        "warnings.filterwarnings('ignore')\n"
      ]
    },
    {
      "cell_type": "code",
      "source": [
        "dataframe = pd.read_csv(\"/content/dataframe.csv\")"
      ],
      "metadata": {
        "id": "tN8a6n3xqnqp"
      },
      "execution_count": 15,
      "outputs": []
    },
    {
      "cell_type": "code",
      "source": [
        "dataframe.shape"
      ],
      "metadata": {
        "colab": {
          "base_uri": "https://localhost:8080/"
        },
        "id": "vgsBNm35q0wq",
        "outputId": "d8d55e46-e6a6-4811-e8bb-f475342545af"
      },
      "execution_count": 16,
      "outputs": [
        {
          "output_type": "execute_result",
          "data": {
            "text/plain": [
              "(119210, 27)"
            ]
          },
          "metadata": {},
          "execution_count": 16
        }
      ]
    },
    {
      "cell_type": "code",
      "source": [
        "#show all the columns\n",
        "pd.set_option('display.max_columns',27)"
      ],
      "metadata": {
        "id": "WPctWHPWsAwi"
      },
      "execution_count": 17,
      "outputs": []
    },
    {
      "cell_type": "code",
      "source": [
        "dataframe.head()"
      ],
      "metadata": {
        "colab": {
          "base_uri": "https://localhost:8080/",
          "height": 270
        },
        "id": "XeM8NMc6r4Z7",
        "outputId": "1fbf37f6-a70b-474c-faaf-bcfb370b4078"
      },
      "execution_count": 18,
      "outputs": [
        {
          "output_type": "execute_result",
          "data": {
            "text/plain": [
              "      hotel  arrival_date_month      meal  market_segment  \\\n",
              "0  0.277674            0.374644  0.374106        0.153712   \n",
              "1  0.277674            0.374644  0.374106        0.153712   \n",
              "2  0.277674            0.374644  0.374106        0.153712   \n",
              "3  0.277674            0.374644  0.374106        0.187618   \n",
              "4  0.277674            0.374644  0.374106        0.367590   \n",
              "\n",
              "   distribution_channel  reserved_room_type  deposit_type  customer_type  \\\n",
              "0              0.174868            0.330827       0.28402       0.407864   \n",
              "1              0.174868            0.330827       0.28402       0.407864   \n",
              "2              0.174868            0.391567       0.28402       0.407864   \n",
              "3              0.220568            0.391567       0.28402       0.407864   \n",
              "4              0.410598            0.391567       0.28402       0.407864   \n",
              "\n",
              "   year  month  day  is_canceled  lead_time  arrival_date_week_number  \\\n",
              "0  2015      7    1            0        342                        27   \n",
              "1  2015      7    1            0        737                        27   \n",
              "2  2015      7    2            0          7                        27   \n",
              "3  2015      7    2            0         13                        27   \n",
              "4  2015      7    3            0         14                        27   \n",
              "\n",
              "   arrival_date_day_of_month  stays_in_weekend_nights  stays_in_week_nights  \\\n",
              "0                          1                        0                     0   \n",
              "1                          1                        0                     0   \n",
              "2                          1                        0                     1   \n",
              "3                          1                        0                     1   \n",
              "4                          1                        0                     2   \n",
              "\n",
              "   adults  children  babies  is_repeated_guest  previous_cancellations  \\\n",
              "0       2       0.0       0                  0                       0   \n",
              "1       2       0.0       0                  0                       0   \n",
              "2       1       0.0       0                  0                       0   \n",
              "3       1       0.0       0                  0                       0   \n",
              "4       2       0.0       0                  0                       0   \n",
              "\n",
              "   previous_bookings_not_canceled  booking_changes   adr  \\\n",
              "0                               0                3   0.0   \n",
              "1                               0                4   0.0   \n",
              "2                               0                0  75.0   \n",
              "3                               0                0  75.0   \n",
              "4                               0                0  98.0   \n",
              "\n",
              "   required_car_parking_spaces  total_of_special_requests  \n",
              "0                            0                          0  \n",
              "1                            0                          0  \n",
              "2                            0                          0  \n",
              "3                            0                          0  \n",
              "4                            0                          1  "
            ],
            "text/html": [
              "\n",
              "  <div id=\"df-379bc3d5-8927-4c60-80fb-048b9783c6b4\">\n",
              "    <div class=\"colab-df-container\">\n",
              "      <div>\n",
              "<style scoped>\n",
              "    .dataframe tbody tr th:only-of-type {\n",
              "        vertical-align: middle;\n",
              "    }\n",
              "\n",
              "    .dataframe tbody tr th {\n",
              "        vertical-align: top;\n",
              "    }\n",
              "\n",
              "    .dataframe thead th {\n",
              "        text-align: right;\n",
              "    }\n",
              "</style>\n",
              "<table border=\"1\" class=\"dataframe\">\n",
              "  <thead>\n",
              "    <tr style=\"text-align: right;\">\n",
              "      <th></th>\n",
              "      <th>hotel</th>\n",
              "      <th>arrival_date_month</th>\n",
              "      <th>meal</th>\n",
              "      <th>market_segment</th>\n",
              "      <th>distribution_channel</th>\n",
              "      <th>reserved_room_type</th>\n",
              "      <th>deposit_type</th>\n",
              "      <th>customer_type</th>\n",
              "      <th>year</th>\n",
              "      <th>month</th>\n",
              "      <th>day</th>\n",
              "      <th>is_canceled</th>\n",
              "      <th>lead_time</th>\n",
              "      <th>arrival_date_week_number</th>\n",
              "      <th>arrival_date_day_of_month</th>\n",
              "      <th>stays_in_weekend_nights</th>\n",
              "      <th>stays_in_week_nights</th>\n",
              "      <th>adults</th>\n",
              "      <th>children</th>\n",
              "      <th>babies</th>\n",
              "      <th>is_repeated_guest</th>\n",
              "      <th>previous_cancellations</th>\n",
              "      <th>previous_bookings_not_canceled</th>\n",
              "      <th>booking_changes</th>\n",
              "      <th>adr</th>\n",
              "      <th>required_car_parking_spaces</th>\n",
              "      <th>total_of_special_requests</th>\n",
              "    </tr>\n",
              "  </thead>\n",
              "  <tbody>\n",
              "    <tr>\n",
              "      <th>0</th>\n",
              "      <td>0.277674</td>\n",
              "      <td>0.374644</td>\n",
              "      <td>0.374106</td>\n",
              "      <td>0.153712</td>\n",
              "      <td>0.174868</td>\n",
              "      <td>0.330827</td>\n",
              "      <td>0.28402</td>\n",
              "      <td>0.407864</td>\n",
              "      <td>2015</td>\n",
              "      <td>7</td>\n",
              "      <td>1</td>\n",
              "      <td>0</td>\n",
              "      <td>342</td>\n",
              "      <td>27</td>\n",
              "      <td>1</td>\n",
              "      <td>0</td>\n",
              "      <td>0</td>\n",
              "      <td>2</td>\n",
              "      <td>0.0</td>\n",
              "      <td>0</td>\n",
              "      <td>0</td>\n",
              "      <td>0</td>\n",
              "      <td>0</td>\n",
              "      <td>3</td>\n",
              "      <td>0.0</td>\n",
              "      <td>0</td>\n",
              "      <td>0</td>\n",
              "    </tr>\n",
              "    <tr>\n",
              "      <th>1</th>\n",
              "      <td>0.277674</td>\n",
              "      <td>0.374644</td>\n",
              "      <td>0.374106</td>\n",
              "      <td>0.153712</td>\n",
              "      <td>0.174868</td>\n",
              "      <td>0.330827</td>\n",
              "      <td>0.28402</td>\n",
              "      <td>0.407864</td>\n",
              "      <td>2015</td>\n",
              "      <td>7</td>\n",
              "      <td>1</td>\n",
              "      <td>0</td>\n",
              "      <td>737</td>\n",
              "      <td>27</td>\n",
              "      <td>1</td>\n",
              "      <td>0</td>\n",
              "      <td>0</td>\n",
              "      <td>2</td>\n",
              "      <td>0.0</td>\n",
              "      <td>0</td>\n",
              "      <td>0</td>\n",
              "      <td>0</td>\n",
              "      <td>0</td>\n",
              "      <td>4</td>\n",
              "      <td>0.0</td>\n",
              "      <td>0</td>\n",
              "      <td>0</td>\n",
              "    </tr>\n",
              "    <tr>\n",
              "      <th>2</th>\n",
              "      <td>0.277674</td>\n",
              "      <td>0.374644</td>\n",
              "      <td>0.374106</td>\n",
              "      <td>0.153712</td>\n",
              "      <td>0.174868</td>\n",
              "      <td>0.391567</td>\n",
              "      <td>0.28402</td>\n",
              "      <td>0.407864</td>\n",
              "      <td>2015</td>\n",
              "      <td>7</td>\n",
              "      <td>2</td>\n",
              "      <td>0</td>\n",
              "      <td>7</td>\n",
              "      <td>27</td>\n",
              "      <td>1</td>\n",
              "      <td>0</td>\n",
              "      <td>1</td>\n",
              "      <td>1</td>\n",
              "      <td>0.0</td>\n",
              "      <td>0</td>\n",
              "      <td>0</td>\n",
              "      <td>0</td>\n",
              "      <td>0</td>\n",
              "      <td>0</td>\n",
              "      <td>75.0</td>\n",
              "      <td>0</td>\n",
              "      <td>0</td>\n",
              "    </tr>\n",
              "    <tr>\n",
              "      <th>3</th>\n",
              "      <td>0.277674</td>\n",
              "      <td>0.374644</td>\n",
              "      <td>0.374106</td>\n",
              "      <td>0.187618</td>\n",
              "      <td>0.220568</td>\n",
              "      <td>0.391567</td>\n",
              "      <td>0.28402</td>\n",
              "      <td>0.407864</td>\n",
              "      <td>2015</td>\n",
              "      <td>7</td>\n",
              "      <td>2</td>\n",
              "      <td>0</td>\n",
              "      <td>13</td>\n",
              "      <td>27</td>\n",
              "      <td>1</td>\n",
              "      <td>0</td>\n",
              "      <td>1</td>\n",
              "      <td>1</td>\n",
              "      <td>0.0</td>\n",
              "      <td>0</td>\n",
              "      <td>0</td>\n",
              "      <td>0</td>\n",
              "      <td>0</td>\n",
              "      <td>0</td>\n",
              "      <td>75.0</td>\n",
              "      <td>0</td>\n",
              "      <td>0</td>\n",
              "    </tr>\n",
              "    <tr>\n",
              "      <th>4</th>\n",
              "      <td>0.277674</td>\n",
              "      <td>0.374644</td>\n",
              "      <td>0.374106</td>\n",
              "      <td>0.367590</td>\n",
              "      <td>0.410598</td>\n",
              "      <td>0.391567</td>\n",
              "      <td>0.28402</td>\n",
              "      <td>0.407864</td>\n",
              "      <td>2015</td>\n",
              "      <td>7</td>\n",
              "      <td>3</td>\n",
              "      <td>0</td>\n",
              "      <td>14</td>\n",
              "      <td>27</td>\n",
              "      <td>1</td>\n",
              "      <td>0</td>\n",
              "      <td>2</td>\n",
              "      <td>2</td>\n",
              "      <td>0.0</td>\n",
              "      <td>0</td>\n",
              "      <td>0</td>\n",
              "      <td>0</td>\n",
              "      <td>0</td>\n",
              "      <td>0</td>\n",
              "      <td>98.0</td>\n",
              "      <td>0</td>\n",
              "      <td>1</td>\n",
              "    </tr>\n",
              "  </tbody>\n",
              "</table>\n",
              "</div>\n",
              "      <button class=\"colab-df-convert\" onclick=\"convertToInteractive('df-379bc3d5-8927-4c60-80fb-048b9783c6b4')\"\n",
              "              title=\"Convert this dataframe to an interactive table.\"\n",
              "              style=\"display:none;\">\n",
              "        \n",
              "  <svg xmlns=\"http://www.w3.org/2000/svg\" height=\"24px\"viewBox=\"0 0 24 24\"\n",
              "       width=\"24px\">\n",
              "    <path d=\"M0 0h24v24H0V0z\" fill=\"none\"/>\n",
              "    <path d=\"M18.56 5.44l.94 2.06.94-2.06 2.06-.94-2.06-.94-.94-2.06-.94 2.06-2.06.94zm-11 1L8.5 8.5l.94-2.06 2.06-.94-2.06-.94L8.5 2.5l-.94 2.06-2.06.94zm10 10l.94 2.06.94-2.06 2.06-.94-2.06-.94-.94-2.06-.94 2.06-2.06.94z\"/><path d=\"M17.41 7.96l-1.37-1.37c-.4-.4-.92-.59-1.43-.59-.52 0-1.04.2-1.43.59L10.3 9.45l-7.72 7.72c-.78.78-.78 2.05 0 2.83L4 21.41c.39.39.9.59 1.41.59.51 0 1.02-.2 1.41-.59l7.78-7.78 2.81-2.81c.8-.78.8-2.07 0-2.86zM5.41 20L4 18.59l7.72-7.72 1.47 1.35L5.41 20z\"/>\n",
              "  </svg>\n",
              "      </button>\n",
              "      \n",
              "  <style>\n",
              "    .colab-df-container {\n",
              "      display:flex;\n",
              "      flex-wrap:wrap;\n",
              "      gap: 12px;\n",
              "    }\n",
              "\n",
              "    .colab-df-convert {\n",
              "      background-color: #E8F0FE;\n",
              "      border: none;\n",
              "      border-radius: 50%;\n",
              "      cursor: pointer;\n",
              "      display: none;\n",
              "      fill: #1967D2;\n",
              "      height: 32px;\n",
              "      padding: 0 0 0 0;\n",
              "      width: 32px;\n",
              "    }\n",
              "\n",
              "    .colab-df-convert:hover {\n",
              "      background-color: #E2EBFA;\n",
              "      box-shadow: 0px 1px 2px rgba(60, 64, 67, 0.3), 0px 1px 3px 1px rgba(60, 64, 67, 0.15);\n",
              "      fill: #174EA6;\n",
              "    }\n",
              "\n",
              "    [theme=dark] .colab-df-convert {\n",
              "      background-color: #3B4455;\n",
              "      fill: #D2E3FC;\n",
              "    }\n",
              "\n",
              "    [theme=dark] .colab-df-convert:hover {\n",
              "      background-color: #434B5C;\n",
              "      box-shadow: 0px 1px 3px 1px rgba(0, 0, 0, 0.15);\n",
              "      filter: drop-shadow(0px 1px 2px rgba(0, 0, 0, 0.3));\n",
              "      fill: #FFFFFF;\n",
              "    }\n",
              "  </style>\n",
              "\n",
              "      <script>\n",
              "        const buttonEl =\n",
              "          document.querySelector('#df-379bc3d5-8927-4c60-80fb-048b9783c6b4 button.colab-df-convert');\n",
              "        buttonEl.style.display =\n",
              "          google.colab.kernel.accessAllowed ? 'block' : 'none';\n",
              "\n",
              "        async function convertToInteractive(key) {\n",
              "          const element = document.querySelector('#df-379bc3d5-8927-4c60-80fb-048b9783c6b4');\n",
              "          const dataTable =\n",
              "            await google.colab.kernel.invokeFunction('convertToInteractive',\n",
              "                                                     [key], {});\n",
              "          if (!dataTable) return;\n",
              "\n",
              "          const docLinkHtml = 'Like what you see? Visit the ' +\n",
              "            '<a target=\"_blank\" href=https://colab.research.google.com/notebooks/data_table.ipynb>data table notebook</a>'\n",
              "            + ' to learn more about interactive tables.';\n",
              "          element.innerHTML = '';\n",
              "          dataTable['output_type'] = 'display_data';\n",
              "          await google.colab.output.renderOutput(dataTable, element);\n",
              "          const docLink = document.createElement('div');\n",
              "          docLink.innerHTML = docLinkHtml;\n",
              "          element.appendChild(docLink);\n",
              "        }\n",
              "      </script>\n",
              "    </div>\n",
              "  </div>\n",
              "  "
            ]
          },
          "metadata": {},
          "execution_count": 18
        }
      ]
    },
    {
      "cell_type": "markdown",
      "source": [
        "###**Outlier handling**"
      ],
      "metadata": {
        "id": "bj037Lrfq4KF"
      }
    },
    {
      "cell_type": "markdown",
      "source": [
        "####**Ploting distribution of all Independent variables**"
      ],
      "metadata": {
        "id": "xYQiZKf6uYjC"
      }
    },
    {
      "cell_type": "code",
      "source": [
        "independent_features = dataframe.drop('is_canceled', axis=1)\n",
        "\n",
        "plt.figure(figsize=(15, 25))\n",
        "for i, col in enumerate(independent_features):\n",
        "    plt.subplot(10, 3, i+1)\n",
        "    sns.distplot(x=independent_features[col], color='indianred')\n",
        "    plt.xlabel(col, weight='bold')\n",
        "    plt.tight_layout()"
      ],
      "metadata": {
        "colab": {
          "base_uri": "https://localhost:8080/",
          "height": 1000
        },
        "id": "-hM7DPj-tRDy",
        "outputId": "ac6ad5dd-ccef-43ee-bbfc-245524356b6a"
      },
      "execution_count": 19,
      "outputs": [
        {
          "output_type": "display_data",
          "data": {
            "text/plain": [
              "<Figure size 1080x1800 with 26 Axes>"
            ],
            "image/png": "[encoded data removed]"
          },
          "metadata": {
            "needs_background": "light"
          }
        }
      ]
    },
    {
      "cell_type": "markdown",
      "source": [
        "**Insights**\n",
        "*  As per the above plot most of the features are not normally distributed.\n",
        "*  Features like `lead_time` and `adr` needs transformation.\n",
        "\n"
      ],
      "metadata": {
        "id": "nYvZOntew8N5"
      }
    },
    {
      "cell_type": "code",
      "source": [
        "def handel_outlier(col):\n",
        "  dataframe[col] = np.log1p(dataframe[col])"
      ],
      "metadata": {
        "id": "QhZ338NdrCJ-"
      },
      "execution_count": 20,
      "outputs": []
    },
    {
      "cell_type": "code",
      "source": [
        "handel_outlier('lead_time')"
      ],
      "metadata": {
        "id": "0Q0zxUTttapm"
      },
      "execution_count": 21,
      "outputs": []
    },
    {
      "cell_type": "code",
      "source": [
        "sns.distplot(dataframe['lead_time'])"
      ],
      "metadata": {
        "colab": {
          "base_uri": "https://localhost:8080/",
          "height": 297
        },
        "id": "FiiAA_BRtf8W",
        "outputId": "b57f43a8-f765-4e6a-8e8b-f112c3316acb"
      },
      "execution_count": 22,
      "outputs": [
        {
          "output_type": "execute_result",
          "data": {
            "text/plain": [
              "<Axes: xlabel='lead_time', ylabel='Density'>"
            ]
          },
          "metadata": {},
          "execution_count": 22
        },
        {
          "output_type": "display_data",
          "data": {
            "text/plain": [
              "<Figure size 432x288 with 1 Axes>"
            ],
            "image/png": "[encoded data removed]"
          },
          "metadata": {
            "needs_background": "light"
          }
        }
      ]
    },
    {
      "cell_type": "code",
      "source": [
        "###adr\n",
        "handel_outlier('adr')"
      ],
      "metadata": {
        "id": "_xnuFl9MtmU5"
      },
      "execution_count": 23,
      "outputs": []
    },
    {
      "cell_type": "code",
      "source": [
        "sns.distplot(dataframe['adr'])"
      ],
      "metadata": {
        "colab": {
          "base_uri": "https://localhost:8080/",
          "height": 296
        },
        "id": "pYbmeJuWxg3n",
        "outputId": "981736c6-1db8-4461-eb9c-1ffffa898339"
      },
      "execution_count": 26,
      "outputs": [
        {
          "output_type": "execute_result",
          "data": {
            "text/plain": [
              "<Axes: xlabel='adr', ylabel='Density'>"
            ]
          },
          "metadata": {},
          "execution_count": 26
        },
        {
          "output_type": "display_data",
          "data": {
            "text/plain": [
              "<Figure size 432x288 with 1 Axes>"
            ],
            "image/png": "[encoded data removed]"
          },
          "metadata": {
            "needs_background": "light"
          }
        }
      ]
    },
    {
      "cell_type": "markdown",
      "source": [
        "###**Feature Importance**"
      ],
      "metadata": {
        "id": "NqhsZavtx4NR"
      }
    },
    {
      "cell_type": "code",
      "source": [
        "dataframe.isnull().sum()"
      ],
      "metadata": {
        "colab": {
          "base_uri": "https://localhost:8080/"
        },
        "id": "yGqjcUtMxled",
        "outputId": "8debc467-5689-4805-d26c-083bb6ecf013"
      },
      "execution_count": 27,
      "outputs": [
        {
          "output_type": "execute_result",
          "data": {
            "text/plain": [
              "hotel                             0\n",
              "arrival_date_month                0\n",
              "meal                              0\n",
              "market_segment                    0\n",
              "distribution_channel              0\n",
              "reserved_room_type                0\n",
              "deposit_type                      0\n",
              "customer_type                     0\n",
              "year                              0\n",
              "month                             0\n",
              "day                               0\n",
              "is_canceled                       0\n",
              "lead_time                         0\n",
              "arrival_date_week_number          0\n",
              "arrival_date_day_of_month         0\n",
              "stays_in_weekend_nights           0\n",
              "stays_in_week_nights              0\n",
              "adults                            0\n",
              "children                          0\n",
              "babies                            0\n",
              "is_repeated_guest                 0\n",
              "previous_cancellations            0\n",
              "previous_bookings_not_canceled    0\n",
              "booking_changes                   0\n",
              "adr                               1\n",
              "required_car_parking_spaces       0\n",
              "total_of_special_requests         0\n",
              "dtype: int64"
            ]
          },
          "metadata": {},
          "execution_count": 27
        }
      ]
    },
    {
      "cell_type": "code",
      "source": [
        "dataframe.dropna(inplace=True)"
      ],
      "metadata": {
        "id": "hdfJ3RNiybV3"
      },
      "execution_count": 28,
      "outputs": []
    },
    {
      "cell_type": "code",
      "source": [
        "## Independent and Dependent features\n",
        "\n",
        "x = dataframe.drop('is_canceled', axis=1)\n",
        "y = dataframe['is_canceled']"
      ],
      "metadata": {
        "id": "PUoKR7RUyhVX"
      },
      "execution_count": 30,
      "outputs": []
    },
    {
      "cell_type": "code",
      "source": [
        "from sklearn.linear_model import Lasso\n",
        "from sklearn.feature_selection import SelectFromModel "
      ],
      "metadata": {
        "id": "2mZX2LM9zQII"
      },
      "execution_count": 31,
      "outputs": []
    },
    {
      "cell_type": "code",
      "source": [
        "feature_sel_model = SelectFromModel(Lasso(alpha=0.005, random_state=0))"
      ],
      "metadata": {
        "id": "yNmhmXdj0kfd"
      },
      "execution_count": 32,
      "outputs": []
    },
    {
      "cell_type": "code",
      "source": [
        "feature_sel_model.fit(x,y)"
      ],
      "metadata": {
        "colab": {
          "base_uri": "https://localhost:8080/",
          "height": 117
        },
        "id": "LmenllGn01is",
        "outputId": "25935fc1-b3f3-4a1b-c08c-a56b1feff3f8"
      },
      "execution_count": 33,
      "outputs": [
        {
          "output_type": "execute_result",
          "data": {
            "text/plain": [
              "SelectFromModel(estimator=Lasso(alpha=0.005, random_state=0))"
            ],
            "text/html": [
              "<style>#sk-container-id-1 {color: black;background-color: white;}#sk-container-id-1 pre{padding: 0;}#sk-container-id-1 div.sk-toggleable {background-color: white;}#sk-container-id-1 label.sk-toggleable__label {cursor: pointer;display: block;width: 100%;margin-bottom: 0;padding: 0.3em;box-sizing: border-box;text-align: center;}#sk-container-id-1 label.sk-toggleable__label-arrow:before {content: \"▸\";float: left;margin-right: 0.25em;color: #696969;}#sk-container-id-1 label.sk-toggleable__label-arrow:hover:before {color: black;}#sk-container-id-1 div.sk-estimator:hover label.sk-toggleable__label-arrow:before {color: black;}#sk-container-id-1 div.sk-toggleable__content {max-height: 0;max-width: 0;overflow: hidden;text-align: left;background-color: #f0f8ff;}#sk-container-id-1 div.sk-toggleable__content pre {margin: 0.2em;color: black;border-radius: 0.25em;background-color: #f0f8ff;}#sk-container-id-1 input.sk-toggleable__control:checked~div.sk-toggleable__content {max-height: 200px;max-width: 100%;overflow: auto;}#sk-container-id-1 input.sk-toggleable__control:checked~label.sk-toggleable__label-arrow:before {content: \"▾\";}#sk-container-id-1 div.sk-estimator input.sk-toggleable__control:checked~label.sk-toggleable__label {background-color: #d4ebff;}#sk-container-id-1 div.sk-label input.sk-toggleable__control:checked~label.sk-toggleable__label {background-color: #d4ebff;}#sk-container-id-1 input.sk-hidden--visually {border: 0;clip: rect(1px 1px 1px 1px);clip: rect(1px, 1px, 1px, 1px);height: 1px;margin: -1px;overflow: hidden;padding: 0;position: absolute;width: 1px;}#sk-container-id-1 div.sk-estimator {font-family: monospace;background-color: #f0f8ff;border: 1px dotted black;border-radius: 0.25em;box-sizing: border-box;margin-bottom: 0.5em;}#sk-container-id-1 div.sk-estimator:hover {background-color: #d4ebff;}#sk-container-id-1 div.sk-parallel-item::after {content: \"\";width: 100%;border-bottom: 1px solid gray;flex-grow: 1;}#sk-container-id-1 div.sk-label:hover label.sk-toggleable__label {background-color: #d4ebff;}#sk-container-id-1 div.sk-serial::before {content: \"\";position: absolute;border-left: 1px solid gray;box-sizing: border-box;top: 0;bottom: 0;left: 50%;z-index: 0;}#sk-container-id-1 div.sk-serial {display: flex;flex-direction: column;align-items: center;background-color: white;padding-right: 0.2em;padding-left: 0.2em;position: relative;}#sk-container-id-1 div.sk-item {position: relative;z-index: 1;}#sk-container-id-1 div.sk-parallel {display: flex;align-items: stretch;justify-content: center;background-color: white;position: relative;}#sk-container-id-1 div.sk-item::before, #sk-container-id-1 div.sk-parallel-item::before {content: \"\";position: absolute;border-left: 1px solid gray;box-sizing: border-box;top: 0;bottom: 0;left: 50%;z-index: -1;}#sk-container-id-1 div.sk-parallel-item {display: flex;flex-direction: column;z-index: 1;position: relative;background-color: white;}#sk-container-id-1 div.sk-parallel-item:first-child::after {align-self: flex-end;width: 50%;}#sk-container-id-1 div.sk-parallel-item:last-child::after {align-self: flex-start;width: 50%;}#sk-container-id-1 div.sk-parallel-item:only-child::after {width: 0;}#sk-container-id-1 div.sk-dashed-wrapped {border: 1px dashed gray;margin: 0 0.4em 0.5em 0.4em;box-sizing: border-box;padding-bottom: 0.4em;background-color: white;}#sk-container-id-1 div.sk-label label {font-family: monospace;font-weight: bold;display: inline-block;line-height: 1.2em;}#sk-container-id-1 div.sk-label-container {text-align: center;}#sk-container-id-1 div.sk-container {/* jupyter's `normalize.less` sets `[hidden] { display: none; }` but bootstrap.min.css set `[hidden] { display: none !important; }` so we also need the `!important` here to be able to override the default hidden behavior on the sphinx rendered scikit-learn.org. See: https://github.com/scikit-learn/scikit-learn/issues/21755 */display: inline-block !important;position: relative;}#sk-container-id-1 div.sk-text-repr-fallback {display: none;}</style><div id=\"sk-container-id-1\" class=\"sk-top-container\"><div class=\"sk-text-repr-fallback\"><pre>SelectFromModel(estimator=Lasso(alpha=0.005, random_state=0))</pre><b>In a Jupyter environment, please rerun this cell to show the HTML representation or trust the notebook. <br />On GitHub, the HTML representation is unable to render, please try loading this page with nbviewer.org.</b></div><div class=\"sk-container\" hidden><div class=\"sk-item sk-dashed-wrapped\"><div class=\"sk-label-container\"><div class=\"sk-label sk-toggleable\"><input class=\"sk-toggleable__control sk-hidden--visually\" id=\"sk-estimator-id-1\" type=\"checkbox\" ><label for=\"sk-estimator-id-1\" class=\"sk-toggleable__label sk-toggleable__label-arrow\">SelectFromModel</label><div class=\"sk-toggleable__content\"><pre>SelectFromModel(estimator=Lasso(alpha=0.005, random_state=0))</pre></div></div></div><div class=\"sk-parallel\"><div class=\"sk-parallel-item\"><div class=\"sk-item\"><div class=\"sk-label-container\"><div class=\"sk-label sk-toggleable\"><input class=\"sk-toggleable__control sk-hidden--visually\" id=\"sk-estimator-id-2\" type=\"checkbox\" ><label for=\"sk-estimator-id-2\" class=\"sk-toggleable__label sk-toggleable__label-arrow\">estimator: Lasso</label><div class=\"sk-toggleable__content\"><pre>Lasso(alpha=0.005, random_state=0)</pre></div></div></div><div class=\"sk-serial\"><div class=\"sk-item\"><div class=\"sk-estimator sk-toggleable\"><input class=\"sk-toggleable__control sk-hidden--visually\" id=\"sk-estimator-id-3\" type=\"checkbox\" ><label for=\"sk-estimator-id-3\" class=\"sk-toggleable__label sk-toggleable__label-arrow\">Lasso</label><div class=\"sk-toggleable__content\"><pre>Lasso(alpha=0.005, random_state=0)</pre></div></div></div></div></div></div></div></div></div></div>"
            ]
          },
          "metadata": {},
          "execution_count": 33
        }
      ]
    },
    {
      "cell_type": "code",
      "source": [
        "#name of important features\n",
        "\n",
        "col = x.columns\n",
        "selected_feat = col[feature_sel_model.get_support()]"
      ],
      "metadata": {
        "id": "FpBBebX-06Dp"
      },
      "execution_count": 35,
      "outputs": []
    },
    {
      "cell_type": "code",
      "source": [
        "#final Independent features\n",
        "x = x[selected_feat]"
      ],
      "metadata": {
        "id": "cZMl7EMh1sjY"
      },
      "execution_count": 38,
      "outputs": []
    },
    {
      "cell_type": "code",
      "source": [
        "x.shape"
      ],
      "metadata": {
        "colab": {
          "base_uri": "https://localhost:8080/"
        },
        "id": "7xwYxLOp2M69",
        "outputId": "cda51cd9-efe5-45b6-e4ef-1ff5d845fe25"
      },
      "execution_count": 39,
      "outputs": [
        {
          "output_type": "execute_result",
          "data": {
            "text/plain": [
              "(119209, 14)"
            ]
          },
          "metadata": {},
          "execution_count": 39
        }
      ]
    },
    {
      "cell_type": "markdown",
      "source": [
        "###**Model Training**"
      ],
      "metadata": {
        "id": "FMdeFIWn5GwG"
      }
    },
    {
      "cell_type": "code",
      "source": [
        "!pip install catboost"
      ],
      "metadata": {
        "colab": {
          "base_uri": "https://localhost:8080/"
        },
        "id": "gx5F7VEw5cTL",
        "outputId": "ac3ad416-63c8-4729-f339-afa025c8d62a"
      },
      "execution_count": 40,
      "outputs": [
        {
          "output_type": "stream",
          "name": "stdout",
          "text": [
            "Looking in indexes: https://pypi.org/simple, https://us-python.pkg.dev/colab-wheels/public/simple/\n",
            "Collecting catboost\n",
            "  Downloading catboost-1.1.1-cp39-none-manylinux1_x86_64.whl (76.6 MB)\n",
            "\u001b[2K     \u001b[90m━━━━━━━━━━━━━━━━━━━━━━━━━━━━━━━━━━━━━━━━\u001b[0m \u001b[32m76.6/76.6 MB\u001b[0m \u001b[31m12.5 MB/s\u001b[0m eta \u001b[36m0:00:00\u001b[0m\n",
            "\u001b[?25hRequirement already satisfied: scipy in /usr/local/lib/python3.9/dist-packages (from catboost) (1.10.1)\n",
            "Requirement already satisfied: matplotlib in /usr/local/lib/python3.9/dist-packages (from catboost) (3.7.1)\n",
            "Requirement already satisfied: plotly in /usr/local/lib/python3.9/dist-packages (from catboost) (5.13.1)\n",
            "Requirement already satisfied: graphviz in /usr/local/lib/python3.9/dist-packages (from catboost) (0.20.1)\n",
            "Requirement already satisfied: numpy>=1.16.0 in /usr/local/lib/python3.9/dist-packages (from catboost) (1.22.4)\n",
            "Requirement already satisfied: pandas>=0.24.0 in /usr/local/lib/python3.9/dist-packages (from catboost) (1.4.4)\n",
            "Requirement already satisfied: six in /usr/local/lib/python3.9/dist-packages (from catboost) (1.16.0)\n",
            "Requirement already satisfied: pytz>=2020.1 in /usr/local/lib/python3.9/dist-packages (from pandas>=0.24.0->catboost) (2022.7.1)\n",
            "Requirement already satisfied: python-dateutil>=2.8.1 in /usr/local/lib/python3.9/dist-packages (from pandas>=0.24.0->catboost) (2.8.2)\n",
            "Requirement already satisfied: cycler>=0.10 in /usr/local/lib/python3.9/dist-packages (from matplotlib->catboost) (0.11.0)\n",
            "Requirement already satisfied: importlib-resources>=3.2.0 in /usr/local/lib/python3.9/dist-packages (from matplotlib->catboost) (5.12.0)\n",
            "Requirement already satisfied: kiwisolver>=1.0.1 in /usr/local/lib/python3.9/dist-packages (from matplotlib->catboost) (1.4.4)\n",
            "Requirement already satisfied: pyparsing>=2.3.1 in /usr/local/lib/python3.9/dist-packages (from matplotlib->catboost) (3.0.9)\n",
            "Requirement already satisfied: packaging>=20.0 in /usr/local/lib/python3.9/dist-packages (from matplotlib->catboost) (23.0)\n",
            "Requirement already satisfied: contourpy>=1.0.1 in /usr/local/lib/python3.9/dist-packages (from matplotlib->catboost) (1.0.7)\n",
            "Requirement already satisfied: fonttools>=4.22.0 in /usr/local/lib/python3.9/dist-packages (from matplotlib->catboost) (4.39.2)\n",
            "Requirement already satisfied: pillow>=6.2.0 in /usr/local/lib/python3.9/dist-packages (from matplotlib->catboost) (8.4.0)\n",
            "Requirement already satisfied: tenacity>=6.2.0 in /usr/local/lib/python3.9/dist-packages (from plotly->catboost) (8.2.2)\n",
            "Requirement already satisfied: zipp>=3.1.0 in /usr/local/lib/python3.9/dist-packages (from importlib-resources>=3.2.0->matplotlib->catboost) (3.15.0)\n",
            "Installing collected packages: catboost\n",
            "Successfully installed catboost-1.1.1\n"
          ]
        }
      ]
    },
    {
      "cell_type": "code",
      "source": [
        "from sklearn.metrics import accuracy_score, classification_report,ConfusionMatrixDisplay, \\\n",
        "                            precision_score, recall_score, f1_score, roc_auc_score,roc_curve,confusion_matrix\n",
        "from sklearn.naive_bayes import GaussianNB\n",
        "from sklearn.linear_model import LogisticRegression\n",
        "from sklearn.ensemble import RandomForestClassifier, AdaBoostClassifier, GradientBoostingClassifier\n",
        "from sklearn.neighbors import KNeighborsClassifier\n",
        "from sklearn.tree import DecisionTreeClassifier\n",
        "from sklearn.svm import SVC\n",
        "from xgboost import XGBClassifier\n",
        "from catboost import CatBoostClassifier"
      ],
      "metadata": {
        "id": "CA5XeAyb2efm"
      },
      "execution_count": 47,
      "outputs": []
    },
    {
      "cell_type": "code",
      "source": [
        "#train test split\n",
        "\n",
        "from sklearn.model_selection import train_test_split\n",
        "\n",
        "X_train, X_test, y_train, y_test = train_test_split(x,y, test_size=0.20, random_state=42)"
      ],
      "metadata": {
        "id": "gF33ZCG-5mxd"
      },
      "execution_count": 45,
      "outputs": []
    },
    {
      "cell_type": "markdown",
      "source": [
        "####**Create an Evaluate Function to give all metrics after Training**"
      ],
      "metadata": {
        "id": "HxDZL6o36oBK"
      }
    },
    {
      "cell_type": "code",
      "source": [
        "def evaluate_model(true,predicted):\n",
        "\n",
        "  '''\n",
        "    This function takes in true values and predicted values\n",
        "    Returns: Accuracy, F1-Score, Precision, Recall, Roc-auc Score\n",
        "  '''\n",
        "  acc = accuracy_score(true, predicted) # Calculate Accuracy\n",
        "  f1 = f1_score(true, predicted) # Calculate F1-score\n",
        "  precision = precision_score(true, predicted) # Calculate Precision\n",
        "  recall = recall_score(true, predicted)  # Calculate Recall\n",
        "  roc_auc = roc_auc_score(true, predicted) #Calculate Roc\n",
        "  return acc, f1 , precision, recall, roc_auc"
      ],
      "metadata": {
        "id": "8GOyrsC76NZY"
      },
      "execution_count": 46,
      "outputs": []
    },
    {
      "cell_type": "code",
      "source": [
        "models = {\n",
        "    'Logistic Regression': LogisticRegression(),\n",
        "    'Random Forest': RandomForestClassifier(),\n",
        "    'Decision Tree': DecisionTreeClassifier(),\n",
        "    'Gradient Boosting': GradientBoostingClassifier(),\n",
        "    'K-Neighbors Classifier': KNeighborsClassifier(),\n",
        "    'XGB Classifier': XGBClassifier(),\n",
        "    'CatBoost Classifier': CatBoostClassifier(verbose=False),\n",
        "    'AdaBoost Classifier': AdaBoostClassifier(),\n",
        "    'Naive Bayes': GaussianNB()\n",
        "}\n",
        "\n",
        "\n",
        "model_list = []\n",
        "acc = []\n",
        "f1 = []\n",
        "precision = []\n",
        "recall = []\n",
        "roc_auc = []\n",
        "\n",
        "for i in range(len(list(models))):\n",
        "  model = list(models.values())[i]\n",
        "  #training\n",
        "  model.fit(X_train, y_train) \n",
        "\n",
        "  #prediction\n",
        "  y_train_pred = model.predict(X_train)\n",
        "  y_test_pred = model.predict(X_test)\n",
        "\n",
        "  #Evaluation\n",
        "  model_train_acc, model_train_f1, model_train_precision, model_train_recall, model_train_roc_auc = evaluate_model(y_train, y_train_pred)\n",
        "\n",
        "  model_test_acc, model_test_f1, model_test_precision, model_test_recall, model_test_roc_auc = evaluate_model(y_test, y_test_pred)\n",
        "\n",
        "\n",
        "  print(list(models.values())[i])\n",
        "  model_list.append(list(models.keys())[i])\n",
        "\n",
        "  print(\"Model Performance on Training Set\")\n",
        "  print(\"- Accuracy : {:.4f}\".format(model_train_acc))\n",
        "  print(\"- f1 Score : {:.4f}\".format(model_train_f1))\n",
        "  print(\"- Precision : {:.4f}\".format(model_train_precision))\n",
        "  print(\"- Recall : {:.4f}\".format(model_train_recall))\n",
        "  print(\"- Roc_Auc : {:.4f}\".format(model_train_roc_auc))\n",
        "\n",
        "  print(\"-\"*45)\n",
        "\n",
        "  print(\"Model Performance on Test Set\")\n",
        "  print(\"- Accuracy : {:.4f}\".format(model_test_acc))\n",
        "  print(\"- f1 Score : {:.4f}\".format(model_test_f1))\n",
        "  print(\"- Precision : {:.4f}\".format(model_test_precision))\n",
        "  print(\"- Recall : {:.4f}\".format(model_test_recall))\n",
        "  print(\"- Roc_Auc : {:.4f}\".format(model_test_roc_auc))\n",
        "\n",
        "  acc.append(model_test_acc)\n",
        "  f1.append(model_test_f1)\n",
        "  precision.append(model_test_precision)\n",
        "  recall.append(model_test_recall)\n",
        "  roc_auc.append(model_test_roc_auc)\n",
        "\n",
        "  print(\"=\"*45)\n",
        "  print(\"\\n\")"
      ],
      "metadata": {
        "colab": {
          "base_uri": "https://localhost:8080/"
        },
        "id": "4L70Qu2O65DH",
        "outputId": "d85d9d88-da65-495b-be37-c14a0d7dda20"
      },
      "execution_count": 49,
      "outputs": [
        {
          "output_type": "stream",
          "name": "stdout",
          "text": [
            "LogisticRegression()\n",
            "Model Performance on Training Set\n",
            "- Accuracy : 0.7543\n",
            "- f1 Score : 0.6433\n",
            "- Precision : 0.6948\n",
            "- Recall : 0.5989\n",
            "- Roc_Auc : 0.7222\n",
            "---------------------------------------------\n",
            "Model Performance on Test Set\n",
            "- Accuracy : 0.7537\n",
            "- f1 Score : 0.6471\n",
            "- Precision : 0.6968\n",
            "- Recall : 0.6040\n",
            "- Roc_Auc : 0.7235\n",
            "=============================================\n",
            "\n",
            "\n",
            "RandomForestClassifier()\n",
            "Model Performance on Training Set\n",
            "- Accuracy : 0.9998\n",
            "- f1 Score : 0.9998\n",
            "- Precision : 0.9999\n",
            "- Recall : 0.9997\n",
            "- Roc_Auc : 0.9998\n",
            "---------------------------------------------\n",
            "Model Performance on Test Set\n",
            "- Accuracy : 0.9564\n",
            "- f1 Score : 0.9388\n",
            "- Precision : 0.9871\n",
            "- Recall : 0.8950\n",
            "- Roc_Auc : 0.9440\n",
            "=============================================\n",
            "\n",
            "\n",
            "DecisionTreeClassifier()\n",
            "Model Performance on Training Set\n",
            "- Accuracy : 0.9998\n",
            "- f1 Score : 0.9998\n",
            "- Precision : 0.9999\n",
            "- Recall : 0.9996\n",
            "- Roc_Auc : 0.9998\n",
            "---------------------------------------------\n",
            "Model Performance on Test Set\n",
            "- Accuracy : 0.9484\n",
            "- f1 Score : 0.9311\n",
            "- Precision : 0.9287\n",
            "- Recall : 0.9336\n",
            "- Roc_Auc : 0.9454\n",
            "=============================================\n",
            "\n",
            "\n",
            "GradientBoostingClassifier()\n",
            "Model Performance on Training Set\n",
            "- Accuracy : 0.8851\n",
            "- f1 Score : 0.8183\n",
            "- Precision : 0.9859\n",
            "- Recall : 0.6994\n",
            "- Roc_Auc : 0.8468\n",
            "---------------------------------------------\n",
            "Model Performance on Test Set\n",
            "- Accuracy : 0.8821\n",
            "- f1 Score : 0.8149\n",
            "- Precision : 0.9863\n",
            "- Recall : 0.6942\n",
            "- Roc_Auc : 0.8442\n",
            "=============================================\n",
            "\n",
            "\n",
            "KNeighborsClassifier()\n",
            "Model Performance on Training Set\n",
            "- Accuracy : 0.9628\n",
            "- f1 Score : 0.9474\n",
            "- Precision : 0.9920\n",
            "- Recall : 0.9067\n",
            "- Roc_Auc : 0.9512\n",
            "---------------------------------------------\n",
            "Model Performance on Test Set\n",
            "- Accuracy : 0.9498\n",
            "- f1 Score : 0.9288\n",
            "- Precision : 0.9872\n",
            "- Recall : 0.8769\n",
            "- Roc_Auc : 0.9351\n",
            "=============================================\n",
            "\n",
            "\n",
            "XGBClassifier(base_score=None, booster=None, callbacks=None,\n",
            "              colsample_bylevel=None, colsample_bynode=None,\n",
            "              colsample_bytree=None, early_stopping_rounds=None,\n",
            "              enable_categorical=False, eval_metric=None, feature_types=None,\n",
            "              gamma=None, gpu_id=None, grow_policy=None, importance_type=None,\n",
            "              interaction_constraints=None, learning_rate=None, max_bin=None,\n",
            "              max_cat_threshold=None, max_cat_to_onehot=None,\n",
            "              max_delta_step=None, max_depth=None, max_leaves=None,\n",
            "              min_child_weight=None, missing=nan, monotone_constraints=None,\n",
            "              n_estimators=100, n_jobs=None, num_parallel_tree=None,\n",
            "              predictor=None, random_state=None, ...)\n",
            "Model Performance on Training Set\n",
            "- Accuracy : 0.9763\n",
            "- f1 Score : 0.9670\n",
            "- Precision : 0.9979\n",
            "- Recall : 0.9380\n",
            "- Roc_Auc : 0.9684\n",
            "---------------------------------------------\n",
            "Model Performance on Test Set\n",
            "- Accuracy : 0.9741\n",
            "- f1 Score : 0.9643\n",
            "- Precision : 0.9956\n",
            "- Recall : 0.9349\n",
            "- Roc_Auc : 0.9662\n",
            "=============================================\n",
            "\n",
            "\n",
            "<catboost.core.CatBoostClassifier object at 0x7f41c1c71f10>\n",
            "Model Performance on Training Set\n",
            "- Accuracy : 0.9736\n",
            "- f1 Score : 0.9631\n",
            "- Precision : 0.9992\n",
            "- Recall : 0.9295\n",
            "- Roc_Auc : 0.9645\n",
            "---------------------------------------------\n",
            "Model Performance on Test Set\n",
            "- Accuracy : 0.9721\n",
            "- f1 Score : 0.9614\n",
            "- Precision : 0.9988\n",
            "- Recall : 0.9266\n",
            "- Roc_Auc : 0.9630\n",
            "=============================================\n",
            "\n",
            "\n",
            "AdaBoostClassifier()\n",
            "Model Performance on Training Set\n",
            "- Accuracy : 0.8192\n",
            "- f1 Score : 0.7053\n",
            "- Precision : 0.8882\n",
            "- Recall : 0.5849\n",
            "- Roc_Auc : 0.7708\n",
            "---------------------------------------------\n",
            "Model Performance on Test Set\n",
            "- Accuracy : 0.8134\n",
            "- f1 Score : 0.6972\n",
            "- Precision : 0.8860\n",
            "- Recall : 0.5748\n",
            "- Roc_Auc : 0.7653\n",
            "=============================================\n",
            "\n",
            "\n",
            "GaussianNB()\n",
            "Model Performance on Training Set\n",
            "- Accuracy : 0.5427\n",
            "- f1 Score : 0.6053\n",
            "- Precision : 0.4446\n",
            "- Recall : 0.9479\n",
            "- Roc_Auc : 0.6263\n",
            "---------------------------------------------\n",
            "Model Performance on Test Set\n",
            "- Accuracy : 0.5442\n",
            "- f1 Score : 0.6089\n",
            "- Precision : 0.4483\n",
            "- Recall : 0.9491\n",
            "- Roc_Auc : 0.6257\n",
            "=============================================\n",
            "\n",
            "\n"
          ]
        }
      ]
    },
    {
      "cell_type": "markdown",
      "source": [
        "###**Result**"
      ],
      "metadata": {
        "id": "27_LHfaIEGyd"
      }
    },
    {
      "cell_type": "code",
      "source": [
        "pd.DataFrame(list(zip(model_list, acc, f1, precision, recall, roc_auc)),\n",
        "             columns=['Model Name','Accuracy','f1 Score','Precision','Recall','Roc_Auc']).sort_values(by=['Accuracy'], ascending=False)"
      ],
      "metadata": {
        "colab": {
          "base_uri": "https://localhost:8080/",
          "height": 331
        },
        "id": "n0c5up0fDStC",
        "outputId": "302567d0-bc8d-4fed-c18e-32e1f3609c32"
      },
      "execution_count": 50,
      "outputs": [
        {
          "output_type": "execute_result",
          "data": {
            "text/plain": [
              "               Model Name  Accuracy  f1 Score  Precision    Recall   Roc_Auc\n",
              "5          XGB Classifier  0.974121  0.964308   0.995581  0.934941  0.966231\n",
              "6     CatBoost Classifier  0.972150  0.961364   0.998791  0.926640  0.962985\n",
              "1           Random Forest  0.956379  0.938816   0.987133  0.895008  0.944021\n",
              "4  K-Neighbors Classifier  0.949753  0.928835   0.987246  0.876949  0.935091\n",
              "2           Decision Tree  0.948368  0.931141   0.928699  0.933595  0.945393\n",
              "3       Gradient Boosting  0.882057  0.814878   0.986295  0.694223  0.844231\n",
              "7     AdaBoost Classifier  0.813355  0.697238   0.886045  0.574762  0.765307\n",
              "0     Logistic Regression  0.753670  0.647119   0.696817  0.604038  0.723537\n",
              "8             Naive Bayes  0.544208  0.608946   0.448289  0.949075  0.625740"
            ],
            "text/html": [
              "\n",
              "  <div id=\"df-5c2fa1fe-b87a-4ac8-b35e-c0adcd860555\">\n",
              "    <div class=\"colab-df-container\">\n",
              "      <div>\n",
              "<style scoped>\n",
              "    .dataframe tbody tr th:only-of-type {\n",
              "        vertical-align: middle;\n",
              "    }\n",
              "\n",
              "    .dataframe tbody tr th {\n",
              "        vertical-align: top;\n",
              "    }\n",
              "\n",
              "    .dataframe thead th {\n",
              "        text-align: right;\n",
              "    }\n",
              "</style>\n",
              "<table border=\"1\" class=\"dataframe\">\n",
              "  <thead>\n",
              "    <tr style=\"text-align: right;\">\n",
              "      <th></th>\n",
              "      <th>Model Name</th>\n",
              "      <th>Accuracy</th>\n",
              "      <th>f1 Score</th>\n",
              "      <th>Precision</th>\n",
              "      <th>Recall</th>\n",
              "      <th>Roc_Auc</th>\n",
              "    </tr>\n",
              "  </thead>\n",
              "  <tbody>\n",
              "    <tr>\n",
              "      <th>5</th>\n",
              "      <td>XGB Classifier</td>\n",
              "      <td>0.974121</td>\n",
              "      <td>0.964308</td>\n",
              "      <td>0.995581</td>\n",
              "      <td>0.934941</td>\n",
              "      <td>0.966231</td>\n",
              "    </tr>\n",
              "    <tr>\n",
              "      <th>6</th>\n",
              "      <td>CatBoost Classifier</td>\n",
              "      <td>0.972150</td>\n",
              "      <td>0.961364</td>\n",
              "      <td>0.998791</td>\n",
              "      <td>0.926640</td>\n",
              "      <td>0.962985</td>\n",
              "    </tr>\n",
              "    <tr>\n",
              "      <th>1</th>\n",
              "      <td>Random Forest</td>\n",
              "      <td>0.956379</td>\n",
              "      <td>0.938816</td>\n",
              "      <td>0.987133</td>\n",
              "      <td>0.895008</td>\n",
              "      <td>0.944021</td>\n",
              "    </tr>\n",
              "    <tr>\n",
              "      <th>4</th>\n",
              "      <td>K-Neighbors Classifier</td>\n",
              "      <td>0.949753</td>\n",
              "      <td>0.928835</td>\n",
              "      <td>0.987246</td>\n",
              "      <td>0.876949</td>\n",
              "      <td>0.935091</td>\n",
              "    </tr>\n",
              "    <tr>\n",
              "      <th>2</th>\n",
              "      <td>Decision Tree</td>\n",
              "      <td>0.948368</td>\n",
              "      <td>0.931141</td>\n",
              "      <td>0.928699</td>\n",
              "      <td>0.933595</td>\n",
              "      <td>0.945393</td>\n",
              "    </tr>\n",
              "    <tr>\n",
              "      <th>3</th>\n",
              "      <td>Gradient Boosting</td>\n",
              "      <td>0.882057</td>\n",
              "      <td>0.814878</td>\n",
              "      <td>0.986295</td>\n",
              "      <td>0.694223</td>\n",
              "      <td>0.844231</td>\n",
              "    </tr>\n",
              "    <tr>\n",
              "      <th>7</th>\n",
              "      <td>AdaBoost Classifier</td>\n",
              "      <td>0.813355</td>\n",
              "      <td>0.697238</td>\n",
              "      <td>0.886045</td>\n",
              "      <td>0.574762</td>\n",
              "      <td>0.765307</td>\n",
              "    </tr>\n",
              "    <tr>\n",
              "      <th>0</th>\n",
              "      <td>Logistic Regression</td>\n",
              "      <td>0.753670</td>\n",
              "      <td>0.647119</td>\n",
              "      <td>0.696817</td>\n",
              "      <td>0.604038</td>\n",
              "      <td>0.723537</td>\n",
              "    </tr>\n",
              "    <tr>\n",
              "      <th>8</th>\n",
              "      <td>Naive Bayes</td>\n",
              "      <td>0.544208</td>\n",
              "      <td>0.608946</td>\n",
              "      <td>0.448289</td>\n",
              "      <td>0.949075</td>\n",
              "      <td>0.625740</td>\n",
              "    </tr>\n",
              "  </tbody>\n",
              "</table>\n",
              "</div>\n",
              "      <button class=\"colab-df-convert\" onclick=\"convertToInteractive('df-5c2fa1fe-b87a-4ac8-b35e-c0adcd860555')\"\n",
              "              title=\"Convert this dataframe to an interactive table.\"\n",
              "              style=\"display:none;\">\n",
              "        \n",
              "  <svg xmlns=\"http://www.w3.org/2000/svg\" height=\"24px\"viewBox=\"0 0 24 24\"\n",
              "       width=\"24px\">\n",
              "    <path d=\"M0 0h24v24H0V0z\" fill=\"none\"/>\n",
              "    <path d=\"M18.56 5.44l.94 2.06.94-2.06 2.06-.94-2.06-.94-.94-2.06-.94 2.06-2.06.94zm-11 1L8.5 8.5l.94-2.06 2.06-.94-2.06-.94L8.5 2.5l-.94 2.06-2.06.94zm10 10l.94 2.06.94-2.06 2.06-.94-2.06-.94-.94-2.06-.94 2.06-2.06.94z\"/><path d=\"M17.41 7.96l-1.37-1.37c-.4-.4-.92-.59-1.43-.59-.52 0-1.04.2-1.43.59L10.3 9.45l-7.72 7.72c-.78.78-.78 2.05 0 2.83L4 21.41c.39.39.9.59 1.41.59.51 0 1.02-.2 1.41-.59l7.78-7.78 2.81-2.81c.8-.78.8-2.07 0-2.86zM5.41 20L4 18.59l7.72-7.72 1.47 1.35L5.41 20z\"/>\n",
              "  </svg>\n",
              "      </button>\n",
              "      \n",
              "  <style>\n",
              "    .colab-df-container {\n",
              "      display:flex;\n",
              "      flex-wrap:wrap;\n",
              "      gap: 12px;\n",
              "    }\n",
              "\n",
              "    .colab-df-convert {\n",
              "      background-color: #E8F0FE;\n",
              "      border: none;\n",
              "      border-radius: 50%;\n",
              "      cursor: pointer;\n",
              "      display: none;\n",
              "      fill: #1967D2;\n",
              "      height: 32px;\n",
              "      padding: 0 0 0 0;\n",
              "      width: 32px;\n",
              "    }\n",
              "\n",
              "    .colab-df-convert:hover {\n",
              "      background-color: #E2EBFA;\n",
              "      box-shadow: 0px 1px 2px rgba(60, 64, 67, 0.3), 0px 1px 3px 1px rgba(60, 64, 67, 0.15);\n",
              "      fill: #174EA6;\n",
              "    }\n",
              "\n",
              "    [theme=dark] .colab-df-convert {\n",
              "      background-color: #3B4455;\n",
              "      fill: #D2E3FC;\n",
              "    }\n",
              "\n",
              "    [theme=dark] .colab-df-convert:hover {\n",
              "      background-color: #434B5C;\n",
              "      box-shadow: 0px 1px 3px 1px rgba(0, 0, 0, 0.15);\n",
              "      filter: drop-shadow(0px 1px 2px rgba(0, 0, 0, 0.3));\n",
              "      fill: #FFFFFF;\n",
              "    }\n",
              "  </style>\n",
              "\n",
              "      <script>\n",
              "        const buttonEl =\n",
              "          document.querySelector('#df-5c2fa1fe-b87a-4ac8-b35e-c0adcd860555 button.colab-df-convert');\n",
              "        buttonEl.style.display =\n",
              "          google.colab.kernel.accessAllowed ? 'block' : 'none';\n",
              "\n",
              "        async function convertToInteractive(key) {\n",
              "          const element = document.querySelector('#df-5c2fa1fe-b87a-4ac8-b35e-c0adcd860555');\n",
              "          const dataTable =\n",
              "            await google.colab.kernel.invokeFunction('convertToInteractive',\n",
              "                                                     [key], {});\n",
              "          if (!dataTable) return;\n",
              "\n",
              "          const docLinkHtml = 'Like what you see? Visit the ' +\n",
              "            '<a target=\"_blank\" href=https://colab.research.google.com/notebooks/data_table.ipynb>data table notebook</a>'\n",
              "            + ' to learn more about interactive tables.';\n",
              "          element.innerHTML = '';\n",
              "          dataTable['output_type'] = 'display_data';\n",
              "          await google.colab.output.renderOutput(dataTable, element);\n",
              "          const docLink = document.createElement('div');\n",
              "          docLink.innerHTML = docLinkHtml;\n",
              "          element.appendChild(docLink);\n",
              "        }\n",
              "      </script>\n",
              "    </div>\n",
              "  </div>\n",
              "  "
            ]
          },
          "metadata": {},
          "execution_count": 50
        }
      ]
    },
    {
      "cell_type": "markdown",
      "source": [
        "###**XGB Classifier**"
      ],
      "metadata": {
        "id": "LpXqzVPxFZfQ"
      }
    },
    {
      "cell_type": "code",
      "source": [
        "XGB_Classifier = XGBClassifier()\n",
        "XGB_Classifier = XGB_Classifier.fit(X_train, y_train)\n",
        "y_pred = XGB_Classifier.predict(X_test)\n",
        "score = accuracy_score(y_test, y_pred)*100\n",
        "print(\"Accuracy of the model is %.2f\" %score)"
      ],
      "metadata": {
        "colab": {
          "base_uri": "https://localhost:8080/"
        },
        "id": "8yf6C1S7E-TC",
        "outputId": "1e481e8e-d2b5-48e7-8353-74e1b6fa4e75"
      },
      "execution_count": 52,
      "outputs": [
        {
          "output_type": "stream",
          "name": "stdout",
          "text": [
            "Accuracy of the model is 97.41\n"
          ]
        }
      ]
    },
    {
      "cell_type": "markdown",
      "source": [
        "####**Confusion Metrix**"
      ],
      "metadata": {
        "id": "0wjme2ouGedK"
      }
    },
    {
      "cell_type": "code",
      "source": [
        "cm = confusion_matrix(y_test, y_pred)\n",
        "print(cm)"
      ],
      "metadata": {
        "colab": {
          "base_uri": "https://localhost:8080/"
        },
        "id": "BC5eRUavGWkA",
        "outputId": "c599a501-ed0b-4ebf-ae8a-b575851b8b55"
      },
      "execution_count": 54,
      "outputs": [
        {
          "output_type": "stream",
          "name": "stdout",
          "text": [
            "[[14890    37]\n",
            " [  580  8335]]\n"
          ]
        }
      ]
    },
    {
      "cell_type": "code",
      "source": [],
      "metadata": {
        "id": "dgyBK936HJNV"
      },
      "execution_count": null,
      "outputs": []
    }
  ]
}